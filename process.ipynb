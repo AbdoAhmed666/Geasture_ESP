{
 "cells": [
  {
   "cell_type": "code",
   "execution_count": 1,
   "id": "02d64baf",
   "metadata": {},
   "outputs": [
    {
     "name": "stdout",
     "output_type": "stream",
     "text": [
      "      Timestamp  Accel X  Accel Y  Accel Z  Gyro X  Gyro Y  Gyro Z     lable\n",
      "0      14:49:24     2.36    -8.24    -3.47   -0.01    0.30   -0.16      down\n",
      "1      14:49:24     3.21    -9.22    -2.42    0.11   -0.41    0.22      down\n",
      "2      14:49:24     1.83   -10.16    -2.82    0.13    0.00   -0.02      down\n",
      "3      14:49:24     2.58    -9.41    -2.58   -0.04    0.32   -0.16      down\n",
      "4      14:49:24     3.34    -8.63    -2.44   -0.17    0.20   -0.05      down\n",
      "...         ...      ...      ...      ...     ...     ...     ...       ...\n",
      "13728  19:11:07    -0.71    -0.69     8.65    0.00   -0.04    0.01  striaght\n",
      "13729  19:11:07    -0.69    -0.73     8.68    0.02   -0.01    0.01  striaght\n",
      "13730  19:11:08    -0.69    -0.69     8.63    0.00   -0.05    0.01  striaght\n",
      "13731  19:11:08    -0.60    -0.71     8.66    0.00   -0.03    0.01  striaght\n",
      "13732  19:11:08    -0.84    -0.67     8.61    0.01    0.01    0.01  striaght\n",
      "\n",
      "[13733 rows x 8 columns]\n"
     ]
    }
   ],
   "source": [
    "import pandas as pd\n",
    "\n",
    "# Load your Excel file\n",
    "data = pd.read_excel(r\"data\\sensor_data.xlsx\")\n",
    "\n",
    "print(data)"
   ]
  },
  {
   "cell_type": "code",
   "execution_count": null,
   "id": "5498f8fb",
   "metadata": {},
   "outputs": [],
   "source": []
  }
 ],
 "metadata": {
  "kernelspec": {
   "display_name": "grad_ESP",
   "language": "python",
   "name": "python3"
  },
  "language_info": {
   "codemirror_mode": {
    "name": "ipython",
    "version": 3
   },
   "file_extension": ".py",
   "mimetype": "text/x-python",
   "name": "python",
   "nbconvert_exporter": "python",
   "pygments_lexer": "ipython3",
   "version": "3.11.11"
  }
 },
 "nbformat": 4,
 "nbformat_minor": 5
}
